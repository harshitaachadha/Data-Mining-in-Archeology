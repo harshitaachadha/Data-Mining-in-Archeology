{
 "cells": [
  {
   "cell_type": "markdown",
   "id": "99b35793",
   "metadata": {},
   "source": [
    "# Case Study 1: The Ancient Greek Pottery - Classification"
   ]
  },
  {
   "cell_type": "markdown",
   "id": "b57c3e0a",
   "metadata": {},
   "source": [
    "Given the fabric, shape name, provenance, inscription, there or not and  the technique predict date <br>\n",
    "Will use some sort of random forest here"
   ]
  },
  {
   "cell_type": "code",
   "execution_count": 1,
   "id": "b01c1d4b",
   "metadata": {},
   "outputs": [
    {
     "name": "stderr",
     "output_type": "stream",
     "text": [
      "/usr/local/lib/python3.9/site-packages/IPython/core/interactiveshell.py:3169: DtypeWarning: Columns (14,20,24,25,26,27,28) have mixed types.Specify dtype option on import or set low_memory=False.\n",
      "  has_raised = await self.run_ast_nodes(code_ast.body, cell_name,\n"
     ]
    }
   ],
   "source": [
    "#reading the data\n",
    "import pandas as pd\n",
    "df_orig = pd.read_csv('Pottery_data.csv')"
   ]
  },
  {
   "cell_type": "code",
   "execution_count": 2,
   "id": "a4dc9eb9",
   "metadata": {},
   "outputs": [
    {
     "data": {
      "text/html": [
       "<div>\n",
       "<style scoped>\n",
       "    .dataframe tbody tr th:only-of-type {\n",
       "        vertical-align: middle;\n",
       "    }\n",
       "\n",
       "    .dataframe tbody tr th {\n",
       "        vertical-align: top;\n",
       "    }\n",
       "\n",
       "    .dataframe thead th {\n",
       "        text-align: right;\n",
       "    }\n",
       "</style>\n",
       "<table border=\"1\" class=\"dataframe\">\n",
       "  <thead>\n",
       "    <tr style=\"text-align: right;\">\n",
       "      <th></th>\n",
       "      <th>URI</th>\n",
       "      <th>Vase Number</th>\n",
       "      <th>Fabric</th>\n",
       "      <th>Technique</th>\n",
       "      <th>Sub Technique</th>\n",
       "      <th>Shape Name</th>\n",
       "      <th>Provenance</th>\n",
       "      <th>Date</th>\n",
       "      <th>Inscriptions</th>\n",
       "      <th>Attributed To</th>\n",
       "      <th>...</th>\n",
       "      <th>Technical Observations</th>\n",
       "      <th>Image Credits</th>\n",
       "      <th>Pleiades URI</th>\n",
       "      <th>Latitude</th>\n",
       "      <th>Longitude</th>\n",
       "      <th>LIMC ID</th>\n",
       "      <th>LIMC Web</th>\n",
       "      <th>British Museum Link</th>\n",
       "      <th>Ure Museum Link</th>\n",
       "      <th>Bryn Mawr College Link</th>\n",
       "    </tr>\n",
       "  </thead>\n",
       "  <tbody>\n",
       "    <tr>\n",
       "      <th>0</th>\n",
       "      <td>http://www.beazley.ox.ac.uk/record/AA1CD952-92...</td>\n",
       "      <td>1.0</td>\n",
       "      <td>ATHENIAN</td>\n",
       "      <td>BLACK-FIGURE</td>\n",
       "      <td>NaN</td>\n",
       "      <td>AMPHORA, NECK</td>\n",
       "      <td>ITALY, ETRURIA, VULCI</td>\n",
       "      <td>-525 to -475</td>\n",
       "      <td>NaN</td>\n",
       "      <td>CHIUSI P by KUNZE-GOTTE | LEAGROS GROUP by KUN...</td>\n",
       "      <td>...</td>\n",
       "      <td>NaN</td>\n",
       "      <td>NaN</td>\n",
       "      <td>https://pleiades.stoa.org/places/413393</td>\n",
       "      <td>42.421429</td>\n",
       "      <td>11.702499</td>\n",
       "      <td>6368</td>\n",
       "      <td>http://ark.dasch.swiss/ark:/72163/080e-73fdcff...</td>\n",
       "      <td>NaN</td>\n",
       "      <td>NaN</td>\n",
       "      <td>NaN</td>\n",
       "    </tr>\n",
       "    <tr>\n",
       "      <th>1</th>\n",
       "      <td>http://www.beazley.ox.ac.uk/record/85D73CAF-DC...</td>\n",
       "      <td>2.0</td>\n",
       "      <td>ATHENIAN</td>\n",
       "      <td>BLACK-FIGURE</td>\n",
       "      <td>NaN</td>\n",
       "      <td>KRATER, COLUMN FRAGMENT</td>\n",
       "      <td>GREECE, ATHENS, AGORA</td>\n",
       "      <td>-550 to -500</td>\n",
       "      <td>NaN</td>\n",
       "      <td>NaN</td>\n",
       "      <td>...</td>\n",
       "      <td>NaN</td>\n",
       "      <td>NaN</td>\n",
       "      <td>NaN</td>\n",
       "      <td>NaN</td>\n",
       "      <td>NaN</td>\n",
       "      <td>NaN</td>\n",
       "      <td>NaN</td>\n",
       "      <td>NaN</td>\n",
       "      <td>NaN</td>\n",
       "      <td>NaN</td>\n",
       "    </tr>\n",
       "    <tr>\n",
       "      <th>2</th>\n",
       "      <td>http://www.beazley.ox.ac.uk/record/B7867649-B6...</td>\n",
       "      <td>3.0</td>\n",
       "      <td>ATHENIAN</td>\n",
       "      <td>BLACK-FIGURE</td>\n",
       "      <td>NaN</td>\n",
       "      <td>AMPHORA, NECK</td>\n",
       "      <td>ITALY, ETRURIA, VULCI</td>\n",
       "      <td>-550 to -500</td>\n",
       "      <td>NaN</td>\n",
       "      <td>NaN</td>\n",
       "      <td>...</td>\n",
       "      <td>NaN</td>\n",
       "      <td>NaN</td>\n",
       "      <td>https://pleiades.stoa.org/places/413393</td>\n",
       "      <td>42.421429</td>\n",
       "      <td>11.702499</td>\n",
       "      <td>1023</td>\n",
       "      <td>http://ark.dasch.swiss/ark:/72163/080e-73b1f46...</td>\n",
       "      <td>NaN</td>\n",
       "      <td>NaN</td>\n",
       "      <td>NaN</td>\n",
       "    </tr>\n",
       "    <tr>\n",
       "      <th>3</th>\n",
       "      <td>http://www.beazley.ox.ac.uk/record/64B75012-4B...</td>\n",
       "      <td>4.0</td>\n",
       "      <td>ATHENIAN</td>\n",
       "      <td>BLACK-FIGURE</td>\n",
       "      <td>NaN</td>\n",
       "      <td>AMPHORA, NECK</td>\n",
       "      <td>NaN</td>\n",
       "      <td>-550 to -500</td>\n",
       "      <td>NaN</td>\n",
       "      <td>&lt;em&gt;Near&lt;/em&gt; MEDEA GROUP by UNKNOWN</td>\n",
       "      <td>...</td>\n",
       "      <td>NaN</td>\n",
       "      <td>NaN</td>\n",
       "      <td>NaN</td>\n",
       "      <td>NaN</td>\n",
       "      <td>NaN</td>\n",
       "      <td>1009</td>\n",
       "      <td>http://ark.dasch.swiss/ark:/72163/080e-73b1c12...</td>\n",
       "      <td>NaN</td>\n",
       "      <td>NaN</td>\n",
       "      <td>NaN</td>\n",
       "    </tr>\n",
       "    <tr>\n",
       "      <th>4</th>\n",
       "      <td>http://www.beazley.ox.ac.uk/record/ED45A6A0-5C...</td>\n",
       "      <td>5.0</td>\n",
       "      <td>ATHENIAN</td>\n",
       "      <td>BLACK-FIGURE</td>\n",
       "      <td>NaN</td>\n",
       "      <td>AMPHORA, NECK</td>\n",
       "      <td>NaN</td>\n",
       "      <td>-525 to -475</td>\n",
       "      <td>NaN</td>\n",
       "      <td>ANTIMENEAN by KUNZE-GOTTE | DAYBREAK P by POUI...</td>\n",
       "      <td>...</td>\n",
       "      <td>NaN</td>\n",
       "      <td>NaN</td>\n",
       "      <td>NaN</td>\n",
       "      <td>NaN</td>\n",
       "      <td>NaN</td>\n",
       "      <td>10571</td>\n",
       "      <td>http://ark.dasch.swiss/ark:/72163/080e-74394cd...</td>\n",
       "      <td>https://www.britishmuseum.org/collection/objec...</td>\n",
       "      <td>NaN</td>\n",
       "      <td>NaN</td>\n",
       "    </tr>\n",
       "    <tr>\n",
       "      <th>...</th>\n",
       "      <td>...</td>\n",
       "      <td>...</td>\n",
       "      <td>...</td>\n",
       "      <td>...</td>\n",
       "      <td>...</td>\n",
       "      <td>...</td>\n",
       "      <td>...</td>\n",
       "      <td>...</td>\n",
       "      <td>...</td>\n",
       "      <td>...</td>\n",
       "      <td>...</td>\n",
       "      <td>...</td>\n",
       "      <td>...</td>\n",
       "      <td>...</td>\n",
       "      <td>...</td>\n",
       "      <td>...</td>\n",
       "      <td>...</td>\n",
       "      <td>...</td>\n",
       "      <td>...</td>\n",
       "      <td>...</td>\n",
       "      <td>...</td>\n",
       "    </tr>\n",
       "    <tr>\n",
       "      <th>131192</th>\n",
       "      <td>http://www.beazley.ox.ac.uk/record/C7AFB93A-48...</td>\n",
       "      <td>9053423.0</td>\n",
       "      <td>ATHENIAN</td>\n",
       "      <td>RED-FIGURE</td>\n",
       "      <td>NaN</td>\n",
       "      <td>CUP FRAGMENT</td>\n",
       "      <td>NaN</td>\n",
       "      <td>-500 to -450</td>\n",
       "      <td>NaN</td>\n",
       "      <td>NaN</td>\n",
       "      <td>...</td>\n",
       "      <td>NaN</td>\n",
       "      <td>NaN</td>\n",
       "      <td>NaN</td>\n",
       "      <td>NaN</td>\n",
       "      <td>NaN</td>\n",
       "      <td>NaN</td>\n",
       "      <td>NaN</td>\n",
       "      <td>NaN</td>\n",
       "      <td>NaN</td>\n",
       "      <td>NaN</td>\n",
       "    </tr>\n",
       "    <tr>\n",
       "      <th>131193</th>\n",
       "      <td>http://www.beazley.ox.ac.uk/record/49E67A19-A2...</td>\n",
       "      <td>9053424.0</td>\n",
       "      <td>ATHENIAN</td>\n",
       "      <td>RED-FIGURE</td>\n",
       "      <td>NaN</td>\n",
       "      <td>CUP FRAGMENT</td>\n",
       "      <td>NaN</td>\n",
       "      <td>-500 to -450</td>\n",
       "      <td>NaN</td>\n",
       "      <td>CLINIC P by BOTHMER</td>\n",
       "      <td>...</td>\n",
       "      <td>NaN</td>\n",
       "      <td>NaN</td>\n",
       "      <td>NaN</td>\n",
       "      <td>NaN</td>\n",
       "      <td>NaN</td>\n",
       "      <td>NaN</td>\n",
       "      <td>NaN</td>\n",
       "      <td>NaN</td>\n",
       "      <td>NaN</td>\n",
       "      <td>NaN</td>\n",
       "    </tr>\n",
       "    <tr>\n",
       "      <th>131194</th>\n",
       "      <td>http://www.beazley.ox.ac.uk/record/8D202FC3-F4...</td>\n",
       "      <td>9053425.0</td>\n",
       "      <td>ATHENIAN</td>\n",
       "      <td>RED-FIGURE</td>\n",
       "      <td>NaN</td>\n",
       "      <td>CUP FRAGMENT</td>\n",
       "      <td>NaN</td>\n",
       "      <td>-500 to -450</td>\n",
       "      <td>NaN</td>\n",
       "      <td>NaN</td>\n",
       "      <td>...</td>\n",
       "      <td>NaN</td>\n",
       "      <td>NaN</td>\n",
       "      <td>NaN</td>\n",
       "      <td>NaN</td>\n",
       "      <td>NaN</td>\n",
       "      <td>NaN</td>\n",
       "      <td>NaN</td>\n",
       "      <td>NaN</td>\n",
       "      <td>NaN</td>\n",
       "      <td>NaN</td>\n",
       "    </tr>\n",
       "    <tr>\n",
       "      <th>131195</th>\n",
       "      <td>http://www.beazley.ox.ac.uk/record/E0421614-B6...</td>\n",
       "      <td>9053426.0</td>\n",
       "      <td>ATHENIAN</td>\n",
       "      <td>RED-FIGURE</td>\n",
       "      <td>NaN</td>\n",
       "      <td>CUP FRAGMENT</td>\n",
       "      <td>NaN</td>\n",
       "      <td>-525 to -475</td>\n",
       "      <td>NaN</td>\n",
       "      <td>&lt;em&gt;School of&lt;/em&gt; MAKRON by BOTHMER</td>\n",
       "      <td>...</td>\n",
       "      <td>NaN</td>\n",
       "      <td>NaN</td>\n",
       "      <td>NaN</td>\n",
       "      <td>NaN</td>\n",
       "      <td>NaN</td>\n",
       "      <td>NaN</td>\n",
       "      <td>NaN</td>\n",
       "      <td>NaN</td>\n",
       "      <td>NaN</td>\n",
       "      <td>NaN</td>\n",
       "    </tr>\n",
       "    <tr>\n",
       "      <th>131196</th>\n",
       "      <td>http://www.beazley.ox.ac.uk/record/198FC69F-91...</td>\n",
       "      <td>9053427.0</td>\n",
       "      <td>ATHENIAN</td>\n",
       "      <td>RED-FIGURE</td>\n",
       "      <td>NaN</td>\n",
       "      <td>CUP FRAGMENT</td>\n",
       "      <td>NaN</td>\n",
       "      <td>-525 to -475</td>\n",
       "      <td>NaN</td>\n",
       "      <td>NaN</td>\n",
       "      <td>...</td>\n",
       "      <td>NaN</td>\n",
       "      <td>NaN</td>\n",
       "      <td>NaN</td>\n",
       "      <td>NaN</td>\n",
       "      <td>NaN</td>\n",
       "      <td>NaN</td>\n",
       "      <td>NaN</td>\n",
       "      <td>NaN</td>\n",
       "      <td>NaN</td>\n",
       "      <td>NaN</td>\n",
       "    </tr>\n",
       "  </tbody>\n",
       "</table>\n",
       "<p>131197 rows × 29 columns</p>\n",
       "</div>"
      ],
      "text/plain": [
       "                                                      URI  Vase Number  \\\n",
       "0       http://www.beazley.ox.ac.uk/record/AA1CD952-92...          1.0   \n",
       "1       http://www.beazley.ox.ac.uk/record/85D73CAF-DC...          2.0   \n",
       "2       http://www.beazley.ox.ac.uk/record/B7867649-B6...          3.0   \n",
       "3       http://www.beazley.ox.ac.uk/record/64B75012-4B...          4.0   \n",
       "4       http://www.beazley.ox.ac.uk/record/ED45A6A0-5C...          5.0   \n",
       "...                                                   ...          ...   \n",
       "131192  http://www.beazley.ox.ac.uk/record/C7AFB93A-48...    9053423.0   \n",
       "131193  http://www.beazley.ox.ac.uk/record/49E67A19-A2...    9053424.0   \n",
       "131194  http://www.beazley.ox.ac.uk/record/8D202FC3-F4...    9053425.0   \n",
       "131195  http://www.beazley.ox.ac.uk/record/E0421614-B6...    9053426.0   \n",
       "131196  http://www.beazley.ox.ac.uk/record/198FC69F-91...    9053427.0   \n",
       "\n",
       "          Fabric     Technique Sub Technique               Shape Name  \\\n",
       "0       ATHENIAN  BLACK-FIGURE           NaN            AMPHORA, NECK   \n",
       "1       ATHENIAN  BLACK-FIGURE           NaN  KRATER, COLUMN FRAGMENT   \n",
       "2       ATHENIAN  BLACK-FIGURE           NaN            AMPHORA, NECK   \n",
       "3       ATHENIAN  BLACK-FIGURE           NaN            AMPHORA, NECK   \n",
       "4       ATHENIAN  BLACK-FIGURE           NaN            AMPHORA, NECK   \n",
       "...          ...           ...           ...                      ...   \n",
       "131192  ATHENIAN    RED-FIGURE           NaN             CUP FRAGMENT   \n",
       "131193  ATHENIAN    RED-FIGURE           NaN             CUP FRAGMENT   \n",
       "131194  ATHENIAN    RED-FIGURE           NaN             CUP FRAGMENT   \n",
       "131195  ATHENIAN    RED-FIGURE           NaN             CUP FRAGMENT   \n",
       "131196  ATHENIAN    RED-FIGURE           NaN             CUP FRAGMENT   \n",
       "\n",
       "                   Provenance          Date Inscriptions  \\\n",
       "0       ITALY, ETRURIA, VULCI  -525 to -475          NaN   \n",
       "1       GREECE, ATHENS, AGORA  -550 to -500          NaN   \n",
       "2       ITALY, ETRURIA, VULCI  -550 to -500          NaN   \n",
       "3                         NaN  -550 to -500          NaN   \n",
       "4                         NaN  -525 to -475          NaN   \n",
       "...                       ...           ...          ...   \n",
       "131192                    NaN  -500 to -450          NaN   \n",
       "131193                    NaN  -500 to -450          NaN   \n",
       "131194                    NaN  -500 to -450          NaN   \n",
       "131195                    NaN  -525 to -475          NaN   \n",
       "131196                    NaN  -525 to -475          NaN   \n",
       "\n",
       "                                            Attributed To  ...  \\\n",
       "0       CHIUSI P by KUNZE-GOTTE | LEAGROS GROUP by KUN...  ...   \n",
       "1                                                     NaN  ...   \n",
       "2                                                     NaN  ...   \n",
       "3                    <em>Near</em> MEDEA GROUP by UNKNOWN  ...   \n",
       "4       ANTIMENEAN by KUNZE-GOTTE | DAYBREAK P by POUI...  ...   \n",
       "...                                                   ...  ...   \n",
       "131192                                                NaN  ...   \n",
       "131193                                CLINIC P by BOTHMER  ...   \n",
       "131194                                                NaN  ...   \n",
       "131195               <em>School of</em> MAKRON by BOTHMER  ...   \n",
       "131196                                                NaN  ...   \n",
       "\n",
       "        Technical Observations Image Credits  \\\n",
       "0                          NaN           NaN   \n",
       "1                          NaN           NaN   \n",
       "2                          NaN           NaN   \n",
       "3                          NaN           NaN   \n",
       "4                          NaN           NaN   \n",
       "...                        ...           ...   \n",
       "131192                     NaN           NaN   \n",
       "131193                     NaN           NaN   \n",
       "131194                     NaN           NaN   \n",
       "131195                     NaN           NaN   \n",
       "131196                     NaN           NaN   \n",
       "\n",
       "                                   Pleiades URI   Latitude  Longitude  \\\n",
       "0       https://pleiades.stoa.org/places/413393  42.421429  11.702499   \n",
       "1                                           NaN        NaN        NaN   \n",
       "2       https://pleiades.stoa.org/places/413393  42.421429  11.702499   \n",
       "3                                           NaN        NaN        NaN   \n",
       "4                                           NaN        NaN        NaN   \n",
       "...                                         ...        ...        ...   \n",
       "131192                                      NaN        NaN        NaN   \n",
       "131193                                      NaN        NaN        NaN   \n",
       "131194                                      NaN        NaN        NaN   \n",
       "131195                                      NaN        NaN        NaN   \n",
       "131196                                      NaN        NaN        NaN   \n",
       "\n",
       "        LIMC ID                                           LIMC Web  \\\n",
       "0          6368  http://ark.dasch.swiss/ark:/72163/080e-73fdcff...   \n",
       "1           NaN                                                NaN   \n",
       "2          1023  http://ark.dasch.swiss/ark:/72163/080e-73b1f46...   \n",
       "3          1009  http://ark.dasch.swiss/ark:/72163/080e-73b1c12...   \n",
       "4         10571  http://ark.dasch.swiss/ark:/72163/080e-74394cd...   \n",
       "...         ...                                                ...   \n",
       "131192      NaN                                                NaN   \n",
       "131193      NaN                                                NaN   \n",
       "131194      NaN                                                NaN   \n",
       "131195      NaN                                                NaN   \n",
       "131196      NaN                                                NaN   \n",
       "\n",
       "                                      British Museum Link  Ure Museum Link  \\\n",
       "0                                                     NaN              NaN   \n",
       "1                                                     NaN              NaN   \n",
       "2                                                     NaN              NaN   \n",
       "3                                                     NaN              NaN   \n",
       "4       https://www.britishmuseum.org/collection/objec...              NaN   \n",
       "...                                                   ...              ...   \n",
       "131192                                                NaN              NaN   \n",
       "131193                                                NaN              NaN   \n",
       "131194                                                NaN              NaN   \n",
       "131195                                                NaN              NaN   \n",
       "131196                                                NaN              NaN   \n",
       "\n",
       "        Bryn Mawr College Link  \n",
       "0                          NaN  \n",
       "1                          NaN  \n",
       "2                          NaN  \n",
       "3                          NaN  \n",
       "4                          NaN  \n",
       "...                        ...  \n",
       "131192                     NaN  \n",
       "131193                     NaN  \n",
       "131194                     NaN  \n",
       "131195                     NaN  \n",
       "131196                     NaN  \n",
       "\n",
       "[131197 rows x 29 columns]"
      ]
     },
     "execution_count": 2,
     "metadata": {},
     "output_type": "execute_result"
    }
   ],
   "source": [
    "df_orig.head(None)"
   ]
  },
  {
   "cell_type": "code",
   "execution_count": 56,
   "id": "1bc556b2",
   "metadata": {},
   "outputs": [],
   "source": [
    "#dropping columns that do not contribute directly\n",
    "df_orig = df_orig[['Vase Number','Fabric','Technique','Shape Name','Provenance','Date','Inscriptions',\n",
    "       ' Decoration']]"
   ]
  },
  {
   "cell_type": "code",
   "execution_count": 3,
   "id": "7d89d56f",
   "metadata": {},
   "outputs": [
    {
     "data": {
      "text/plain": [
       "Index(['URI', 'Vase Number', 'Fabric', 'Technique', 'Sub Technique',\n",
       "       'Shape Name', 'Provenance', 'Date', 'Inscriptions', ' Attributed To',\n",
       "       ' Decoration', ' Collection Record', ' Publication Record',\n",
       "       ' Inscriptions II', 'Measurements', 'Volume', 'Weight', 'Restorations',\n",
       "       'Ornament', ' Technical Observations', 'Image Credits', 'Pleiades URI',\n",
       "       'Latitude', 'Longitude', 'LIMC ID', 'LIMC Web', 'British Museum Link',\n",
       "       'Ure Museum Link', 'Bryn Mawr College Link'],\n",
       "      dtype='object')"
      ]
     },
     "execution_count": 3,
     "metadata": {},
     "output_type": "execute_result"
    }
   ],
   "source": [
    "df_orig.columns #updated column list"
   ]
  },
  {
   "cell_type": "code",
   "execution_count": 58,
   "id": "4f59a42d",
   "metadata": {},
   "outputs": [
    {
     "data": {
      "text/plain": [
       "(131197, 8)"
      ]
     },
     "execution_count": 58,
     "metadata": {},
     "output_type": "execute_result"
    }
   ],
   "source": [
    "df_orig.shape"
   ]
  },
  {
   "cell_type": "markdown",
   "id": "208f8af3",
   "metadata": {},
   "source": [
    "This is the original raw relevant dataset. The problem statemnet here is do location based clustering of the artefacts. classify to find the time period. association rule mining between techniques and shapes."
   ]
  },
  {
   "cell_type": "code",
   "execution_count": 59,
   "id": "475f5921",
   "metadata": {},
   "outputs": [
    {
     "data": {
      "text/plain": [
       "Vase Number          1\n",
       "Fabric             446\n",
       "Technique        13640\n",
       "Shape Name        2013\n",
       "Provenance       76427\n",
       "Date             33809\n",
       "Inscriptions    126850\n",
       " Decoration      37397\n",
       "dtype: int64"
      ]
     },
     "execution_count": 59,
     "metadata": {},
     "output_type": "execute_result"
    }
   ],
   "source": [
    "df_orig.isna().sum()"
   ]
  },
  {
   "cell_type": "code",
   "execution_count": 61,
   "id": "1b20e60c",
   "metadata": {},
   "outputs": [
    {
     "name": "stderr",
     "output_type": "stream",
     "text": [
      "<ipython-input-61-0693bd376e06>:2: SettingWithCopyWarning: \n",
      "A value is trying to be set on a copy of a slice from a DataFrame.\n",
      "Try using .loc[row_indexer,col_indexer] = value instead\n",
      "\n",
      "See the caveats in the documentation: https://pandas.pydata.org/pandas-docs/stable/user_guide/indexing.html#returning-a-view-versus-a-copy\n",
      "  df_orig['Inscriptions'] = df_orig['Inscriptions'].apply(lambda x: 1 if pd.notna(x) else 0)\n"
     ]
    }
   ],
   "source": [
    "#for inscription, if it exists, we write 1 and if it doesnt we write 0\n",
    "df_orig['Inscriptions'] = df_orig['Inscriptions'].apply(lambda x: 1 if pd.notna(x) else 0)"
   ]
  },
  {
   "cell_type": "code",
   "execution_count": 62,
   "id": "4278bf27",
   "metadata": {},
   "outputs": [
    {
     "data": {
      "text/plain": [
       "Vase Number         1\n",
       "Fabric            446\n",
       "Technique       13640\n",
       "Shape Name       2013\n",
       "Provenance      76427\n",
       "Date            33809\n",
       "Inscriptions        0\n",
       " Decoration     37397\n",
       "dtype: int64"
      ]
     },
     "execution_count": 62,
     "metadata": {},
     "output_type": "execute_result"
    }
   ],
   "source": [
    "df_orig.isna().sum()"
   ]
  },
  {
   "cell_type": "code",
   "execution_count": 64,
   "id": "99e9ad4e",
   "metadata": {},
   "outputs": [
    {
     "data": {
      "text/plain": [
       "1694"
      ]
     },
     "execution_count": 64,
     "metadata": {},
     "output_type": "execute_result"
    }
   ],
   "source": [
    "df_orig['Provenance'].nunique()"
   ]
  },
  {
   "cell_type": "code",
   "execution_count": 66,
   "id": "1db03551",
   "metadata": {},
   "outputs": [
    {
     "name": "stderr",
     "output_type": "stream",
     "text": [
      "<ipython-input-66-a4506647405c>:1: SettingWithCopyWarning: \n",
      "A value is trying to be set on a copy of a slice from a DataFrame\n",
      "\n",
      "See the caveats in the documentation: https://pandas.pydata.org/pandas-docs/stable/user_guide/indexing.html#returning-a-view-versus-a-copy\n",
      "  df_orig.dropna(inplace = True)\n"
     ]
    }
   ],
   "source": [
    "df_orig.dropna(inplace = True)"
   ]
  },
  {
   "cell_type": "code",
   "execution_count": 67,
   "id": "2f4cbc1f",
   "metadata": {},
   "outputs": [
    {
     "data": {
      "text/plain": [
       "Vase Number     0\n",
       "Fabric          0\n",
       "Technique       0\n",
       "Shape Name      0\n",
       "Provenance      0\n",
       "Date            0\n",
       "Inscriptions    0\n",
       " Decoration     0\n",
       "dtype: int64"
      ]
     },
     "execution_count": 67,
     "metadata": {},
     "output_type": "execute_result"
    }
   ],
   "source": [
    "df_orig.isna().sum()"
   ]
  },
  {
   "cell_type": "code",
   "execution_count": 68,
   "id": "4759b827",
   "metadata": {},
   "outputs": [
    {
     "data": {
      "text/plain": [
       "1607"
      ]
     },
     "execution_count": 68,
     "metadata": {},
     "output_type": "execute_result"
    }
   ],
   "source": [
    "df_orig['Provenance'].nunique()"
   ]
  },
  {
   "cell_type": "code",
   "execution_count": 69,
   "id": "f96d02bc",
   "metadata": {},
   "outputs": [
    {
     "data": {
      "text/plain": [
       "(46045, 8)"
      ]
     },
     "execution_count": 69,
     "metadata": {},
     "output_type": "execute_result"
    }
   ],
   "source": [
    "df_orig.shape"
   ]
  },
  {
   "cell_type": "code",
   "execution_count": 70,
   "id": "a8272d78",
   "metadata": {},
   "outputs": [],
   "source": [
    "df_orig.to_csv('Cleaned_Pottery_data.csv') #start from here next time"
   ]
  },
  {
   "cell_type": "markdown",
   "id": "e6059ac5",
   "metadata": {},
   "source": [
    "# Case Study 2: The SARD Database - Clustering"
   ]
  },
  {
   "cell_type": "markdown",
   "id": "51d7e21a",
   "metadata": {},
   "source": [
    "Given the columns ' Site', 'Site code', 'DecdegS', 'DecdegE', 'Country','Province or district', 'Biome', 'Dating technique', 'Material dated','Uncertainty', 'Archaeological Period','Site Type' cluster the data and then plot the clusters, find how and why clustering happened and create a geographic plot and talk about stuff <br>\n",
    "Will use DB Scan here"
   ]
  },
  {
   "cell_type": "code",
   "execution_count": 19,
   "id": "87b0b71f",
   "metadata": {},
   "outputs": [],
   "source": [
    "df_SARD = pd.read_csv('SARD_Mar2021_14C.csv')"
   ]
  },
  {
   "cell_type": "code",
   "execution_count": 20,
   "id": "1d89d0e1",
   "metadata": {},
   "outputs": [
    {
     "data": {
      "text/html": [
       "<div>\n",
       "<style scoped>\n",
       "    .dataframe tbody tr th:only-of-type {\n",
       "        vertical-align: middle;\n",
       "    }\n",
       "\n",
       "    .dataframe tbody tr th {\n",
       "        vertical-align: top;\n",
       "    }\n",
       "\n",
       "    .dataframe thead th {\n",
       "        text-align: right;\n",
       "    }\n",
       "</style>\n",
       "<table border=\"1\" class=\"dataframe\">\n",
       "  <thead>\n",
       "    <tr style=\"text-align: right;\">\n",
       "      <th></th>\n",
       "      <th>Site</th>\n",
       "      <th>Site code</th>\n",
       "      <th>DecdegS</th>\n",
       "      <th>DecdegE</th>\n",
       "      <th>Country</th>\n",
       "      <th>Province or district</th>\n",
       "      <th>RFZ</th>\n",
       "      <th>Biome</th>\n",
       "      <th>Stratigraphic context</th>\n",
       "      <th>Dating technique</th>\n",
       "      <th>...</th>\n",
       "      <th>Lab ID</th>\n",
       "      <th>Date</th>\n",
       "      <th>Uncertainty</th>\n",
       "      <th>Archaeological Period</th>\n",
       "      <th>Archaeological Sub-chronology</th>\n",
       "      <th>Sample context</th>\n",
       "      <th>Site Type</th>\n",
       "      <th>delta 13</th>\n",
       "      <th>refcode</th>\n",
       "      <th>Notes</th>\n",
       "    </tr>\n",
       "  </thead>\n",
       "  <tbody>\n",
       "    <tr>\n",
       "      <th>0</th>\n",
       "      <td>/hei-/khomas</td>\n",
       "      <td>HKO</td>\n",
       "      <td>-28.583</td>\n",
       "      <td>17.083</td>\n",
       "      <td>South Africa</td>\n",
       "      <td>Northern Cape</td>\n",
       "      <td>W</td>\n",
       "      <td>Succulent Karoo Biome</td>\n",
       "      <td>Area 3, Y21, Layer Unit 2, 7 cm depth</td>\n",
       "      <td>conventional 14C</td>\n",
       "      <td>...</td>\n",
       "      <td>Pta-5444</td>\n",
       "      <td>106</td>\n",
       "      <td>60</td>\n",
       "      <td>LSA</td>\n",
       "      <td>Ceramic LSA</td>\n",
       "      <td>NaN</td>\n",
       "      <td>open site</td>\n",
       "      <td>-23.2</td>\n",
       "      <td>webley1992hap</td>\n",
       "      <td>Also called /Ai tomas</td>\n",
       "    </tr>\n",
       "    <tr>\n",
       "      <th>1</th>\n",
       "      <td>/hei-/khomas</td>\n",
       "      <td>HKO</td>\n",
       "      <td>-28.583</td>\n",
       "      <td>17.083</td>\n",
       "      <td>South Africa</td>\n",
       "      <td>Northern Cape</td>\n",
       "      <td>W</td>\n",
       "      <td>Succulent Karoo Biome</td>\n",
       "      <td>Area 2, P32, LayerSLS2, 16 cm depth</td>\n",
       "      <td>conventional 14C</td>\n",
       "      <td>...</td>\n",
       "      <td>Pta-5452</td>\n",
       "      <td>330</td>\n",
       "      <td>45</td>\n",
       "      <td>LSA</td>\n",
       "      <td>Ceramic LSA</td>\n",
       "      <td>NaN</td>\n",
       "      <td>open site</td>\n",
       "      <td>-19.7</td>\n",
       "      <td>webley1992hap</td>\n",
       "      <td>Also called /Ai tomas</td>\n",
       "    </tr>\n",
       "    <tr>\n",
       "      <th>2</th>\n",
       "      <td>/hei-/khomas</td>\n",
       "      <td>HKO</td>\n",
       "      <td>-28.583</td>\n",
       "      <td>17.083</td>\n",
       "      <td>South Africa</td>\n",
       "      <td>Northern Cape</td>\n",
       "      <td>W</td>\n",
       "      <td>Succulent Karoo Biome</td>\n",
       "      <td>Area 1, N33, Layer BL, 5 cm depth</td>\n",
       "      <td>conventional 14C</td>\n",
       "      <td>...</td>\n",
       "      <td>Pta-5458</td>\n",
       "      <td>420</td>\n",
       "      <td>50</td>\n",
       "      <td>LSA</td>\n",
       "      <td>Ceramic LSA</td>\n",
       "      <td>NaN</td>\n",
       "      <td>open site</td>\n",
       "      <td>-22.3</td>\n",
       "      <td>webley1992hap</td>\n",
       "      <td>Also called /Ai tomas</td>\n",
       "    </tr>\n",
       "    <tr>\n",
       "      <th>3</th>\n",
       "      <td>/hei-/khomas</td>\n",
       "      <td>HKO</td>\n",
       "      <td>-28.583</td>\n",
       "      <td>17.083</td>\n",
       "      <td>South Africa</td>\n",
       "      <td>Northern Cape</td>\n",
       "      <td>W</td>\n",
       "      <td>Succulent Karoo Biome</td>\n",
       "      <td>Area 3, Y21, Layer LBS3, 18 cm depth</td>\n",
       "      <td>conventional 14C</td>\n",
       "      <td>...</td>\n",
       "      <td>Pta-5530</td>\n",
       "      <td>1980</td>\n",
       "      <td>80</td>\n",
       "      <td>LSA</td>\n",
       "      <td>Ceramic LSA</td>\n",
       "      <td>NaN</td>\n",
       "      <td>open site</td>\n",
       "      <td>-19.7</td>\n",
       "      <td>webley1992hap</td>\n",
       "      <td>Also called /Ai tomas</td>\n",
       "    </tr>\n",
       "    <tr>\n",
       "      <th>4</th>\n",
       "      <td>Abrahamsdam</td>\n",
       "      <td>ABH</td>\n",
       "      <td>-28.508</td>\n",
       "      <td>20.610</td>\n",
       "      <td>South Africa</td>\n",
       "      <td>Northern Cape</td>\n",
       "      <td>S</td>\n",
       "      <td>Savanna Biome</td>\n",
       "      <td>Human burial NMB 1405</td>\n",
       "      <td>conventional 14C</td>\n",
       "      <td>...</td>\n",
       "      <td>Pta-2905</td>\n",
       "      <td>360</td>\n",
       "      <td>50</td>\n",
       "      <td>NaN</td>\n",
       "      <td>NaN</td>\n",
       "      <td>NaN</td>\n",
       "      <td>Human burial</td>\n",
       "      <td>NaN</td>\n",
       "      <td>morris1992scs</td>\n",
       "      <td>NaN</td>\n",
       "    </tr>\n",
       "  </tbody>\n",
       "</table>\n",
       "<p>5 rows × 22 columns</p>\n",
       "</div>"
      ],
      "text/plain": [
       "           Site Site code  DecdegS  DecdegE       Country  \\\n",
       "0  /hei-/khomas       HKO  -28.583   17.083  South Africa   \n",
       "1  /hei-/khomas       HKO  -28.583   17.083  South Africa   \n",
       "2  /hei-/khomas       HKO  -28.583   17.083  South Africa   \n",
       "3  /hei-/khomas       HKO  -28.583   17.083  South Africa   \n",
       "4   Abrahamsdam       ABH  -28.508   20.610  South Africa   \n",
       "\n",
       "  Province or district RFZ                  Biome  \\\n",
       "0        Northern Cape   W  Succulent Karoo Biome   \n",
       "1        Northern Cape   W  Succulent Karoo Biome   \n",
       "2        Northern Cape   W  Succulent Karoo Biome   \n",
       "3        Northern Cape   W  Succulent Karoo Biome   \n",
       "4        Northern Cape   S          Savanna Biome   \n",
       "\n",
       "                   Stratigraphic context  Dating technique  ...    Lab ID  \\\n",
       "0  Area 3, Y21, Layer Unit 2, 7 cm depth  conventional 14C  ...  Pta-5444   \n",
       "1    Area 2, P32, LayerSLS2, 16 cm depth  conventional 14C  ...  Pta-5452   \n",
       "2      Area 1, N33, Layer BL, 5 cm depth  conventional 14C  ...  Pta-5458   \n",
       "3   Area 3, Y21, Layer LBS3, 18 cm depth  conventional 14C  ...  Pta-5530   \n",
       "4                  Human burial NMB 1405  conventional 14C  ...  Pta-2905   \n",
       "\n",
       "   Date Uncertainty Archaeological Period Archaeological Sub-chronology  \\\n",
       "0   106          60                   LSA                   Ceramic LSA   \n",
       "1   330          45                   LSA                   Ceramic LSA   \n",
       "2   420          50                   LSA                   Ceramic LSA   \n",
       "3  1980          80                   LSA                   Ceramic LSA   \n",
       "4   360          50                   NaN                           NaN   \n",
       "\n",
       "  Sample context     Site Type delta 13        refcode                  Notes  \n",
       "0            NaN     open site    -23.2  webley1992hap  Also called /Ai tomas  \n",
       "1            NaN     open site    -19.7  webley1992hap  Also called /Ai tomas  \n",
       "2            NaN     open site    -22.3  webley1992hap  Also called /Ai tomas  \n",
       "3            NaN     open site    -19.7  webley1992hap  Also called /Ai tomas  \n",
       "4            NaN  Human burial      NaN  morris1992scs                    NaN  \n",
       "\n",
       "[5 rows x 22 columns]"
      ]
     },
     "execution_count": 20,
     "metadata": {},
     "output_type": "execute_result"
    }
   ],
   "source": [
    "df_SARD.head()"
   ]
  },
  {
   "cell_type": "code",
   "execution_count": 21,
   "id": "cdfa1aa8",
   "metadata": {},
   "outputs": [
    {
     "data": {
      "text/plain": [
       "Index([' Site', 'Site code', 'DecdegS', 'DecdegE', 'Country',\n",
       "       'Province or district', 'RFZ', 'Biome', 'Stratigraphic context',\n",
       "       'Dating technique', 'Material dated', ' Species', 'Lab ID', 'Date',\n",
       "       'Uncertainty', 'Archaeological Period', 'Archaeological Sub-chronology',\n",
       "       'Sample context', 'Site Type', 'delta 13', 'refcode', 'Notes'],\n",
       "      dtype='object')"
      ]
     },
     "execution_count": 21,
     "metadata": {},
     "output_type": "execute_result"
    }
   ],
   "source": [
    "df_SARD.columns"
   ]
  },
  {
   "cell_type": "code",
   "execution_count": 30,
   "id": "87d4c649",
   "metadata": {},
   "outputs": [
    {
     "data": {
      "text/plain": [
       "191"
      ]
     },
     "execution_count": 30,
     "metadata": {},
     "output_type": "execute_result"
    }
   ],
   "source": [
    "df_SARD['delta 13'].nunique()"
   ]
  },
  {
   "cell_type": "code",
   "execution_count": 23,
   "id": "a93a21ea",
   "metadata": {},
   "outputs": [
    {
     "data": {
      "text/plain": [
       "(2907, 22)"
      ]
     },
     "execution_count": 23,
     "metadata": {},
     "output_type": "execute_result"
    }
   ],
   "source": [
    "df_SARD.shape"
   ]
  },
  {
   "cell_type": "code",
   "execution_count": 24,
   "id": "c22a4baf",
   "metadata": {},
   "outputs": [
    {
     "data": {
      "text/plain": [
       " Site                             179\n",
       "Site code                         179\n",
       "DecdegS                           179\n",
       "DecdegE                           179\n",
       "Country                           179\n",
       "Province or district              179\n",
       "RFZ                               186\n",
       "Biome                             305\n",
       "Stratigraphic context            1018\n",
       "Dating technique                  179\n",
       "Material dated                    712\n",
       " Species                         2503\n",
       "Lab ID                            179\n",
       "Date                              179\n",
       "Uncertainty                       206\n",
       "Archaeological Period             360\n",
       "Archaeological Sub-chronology    1499\n",
       "Sample context                   2744\n",
       "Site Type                         359\n",
       "delta 13                         2434\n",
       "refcode                           179\n",
       "Notes                            2017\n",
       "dtype: int64"
      ]
     },
     "execution_count": 24,
     "metadata": {},
     "output_type": "execute_result"
    }
   ],
   "source": [
    "df_SARD.isna().sum()"
   ]
  },
  {
   "cell_type": "code",
   "execution_count": null,
   "id": "66b682d7",
   "metadata": {},
   "outputs": [],
   "source": [
    "#taking only [' Site', 'Site code', 'DecdegS', 'DecdegE', 'Country','Province or district', 'Biome', 'Dating technique', 'Material dated','Uncertainty', 'Archaeological Period','Site Type']"
   ]
  },
  {
   "cell_type": "code",
   "execution_count": 34,
   "id": "f62b315e",
   "metadata": {},
   "outputs": [],
   "source": [
    "df_SARD = df_SARD[[' Site', 'Site code', 'DecdegS', 'DecdegE', 'Country','Province or district', 'Biome', 'Dating technique', 'Material dated','Uncertainty', 'Archaeological Period','Site Type']]"
   ]
  },
  {
   "cell_type": "code",
   "execution_count": 35,
   "id": "bf7df7d1",
   "metadata": {},
   "outputs": [
    {
     "data": {
      "text/html": [
       "<div>\n",
       "<style scoped>\n",
       "    .dataframe tbody tr th:only-of-type {\n",
       "        vertical-align: middle;\n",
       "    }\n",
       "\n",
       "    .dataframe tbody tr th {\n",
       "        vertical-align: top;\n",
       "    }\n",
       "\n",
       "    .dataframe thead th {\n",
       "        text-align: right;\n",
       "    }\n",
       "</style>\n",
       "<table border=\"1\" class=\"dataframe\">\n",
       "  <thead>\n",
       "    <tr style=\"text-align: right;\">\n",
       "      <th></th>\n",
       "      <th>Site</th>\n",
       "      <th>Site code</th>\n",
       "      <th>DecdegS</th>\n",
       "      <th>DecdegE</th>\n",
       "      <th>Country</th>\n",
       "      <th>Province or district</th>\n",
       "      <th>Biome</th>\n",
       "      <th>Dating technique</th>\n",
       "      <th>Material dated</th>\n",
       "      <th>Uncertainty</th>\n",
       "      <th>Archaeological Period</th>\n",
       "      <th>Site Type</th>\n",
       "    </tr>\n",
       "  </thead>\n",
       "  <tbody>\n",
       "    <tr>\n",
       "      <th>0</th>\n",
       "      <td>/hei-/khomas</td>\n",
       "      <td>HKO</td>\n",
       "      <td>-28.583</td>\n",
       "      <td>17.083</td>\n",
       "      <td>South Africa</td>\n",
       "      <td>Northern Cape</td>\n",
       "      <td>Succulent Karoo Biome</td>\n",
       "      <td>conventional 14C</td>\n",
       "      <td>charcoal</td>\n",
       "      <td>60</td>\n",
       "      <td>LSA</td>\n",
       "      <td>open site</td>\n",
       "    </tr>\n",
       "    <tr>\n",
       "      <th>1</th>\n",
       "      <td>/hei-/khomas</td>\n",
       "      <td>HKO</td>\n",
       "      <td>-28.583</td>\n",
       "      <td>17.083</td>\n",
       "      <td>South Africa</td>\n",
       "      <td>Northern Cape</td>\n",
       "      <td>Succulent Karoo Biome</td>\n",
       "      <td>conventional 14C</td>\n",
       "      <td>charcoal</td>\n",
       "      <td>45</td>\n",
       "      <td>LSA</td>\n",
       "      <td>open site</td>\n",
       "    </tr>\n",
       "    <tr>\n",
       "      <th>2</th>\n",
       "      <td>/hei-/khomas</td>\n",
       "      <td>HKO</td>\n",
       "      <td>-28.583</td>\n",
       "      <td>17.083</td>\n",
       "      <td>South Africa</td>\n",
       "      <td>Northern Cape</td>\n",
       "      <td>Succulent Karoo Biome</td>\n",
       "      <td>conventional 14C</td>\n",
       "      <td>charcoal</td>\n",
       "      <td>50</td>\n",
       "      <td>LSA</td>\n",
       "      <td>open site</td>\n",
       "    </tr>\n",
       "    <tr>\n",
       "      <th>3</th>\n",
       "      <td>/hei-/khomas</td>\n",
       "      <td>HKO</td>\n",
       "      <td>-28.583</td>\n",
       "      <td>17.083</td>\n",
       "      <td>South Africa</td>\n",
       "      <td>Northern Cape</td>\n",
       "      <td>Succulent Karoo Biome</td>\n",
       "      <td>conventional 14C</td>\n",
       "      <td>charred bone</td>\n",
       "      <td>80</td>\n",
       "      <td>LSA</td>\n",
       "      <td>open site</td>\n",
       "    </tr>\n",
       "    <tr>\n",
       "      <th>4</th>\n",
       "      <td>Abrahamsdam</td>\n",
       "      <td>ABH</td>\n",
       "      <td>-28.508</td>\n",
       "      <td>20.610</td>\n",
       "      <td>South Africa</td>\n",
       "      <td>Northern Cape</td>\n",
       "      <td>Savanna Biome</td>\n",
       "      <td>conventional 14C</td>\n",
       "      <td>bone</td>\n",
       "      <td>50</td>\n",
       "      <td>NaN</td>\n",
       "      <td>Human burial</td>\n",
       "    </tr>\n",
       "  </tbody>\n",
       "</table>\n",
       "</div>"
      ],
      "text/plain": [
       "           Site Site code  DecdegS  DecdegE       Country  \\\n",
       "0  /hei-/khomas       HKO  -28.583   17.083  South Africa   \n",
       "1  /hei-/khomas       HKO  -28.583   17.083  South Africa   \n",
       "2  /hei-/khomas       HKO  -28.583   17.083  South Africa   \n",
       "3  /hei-/khomas       HKO  -28.583   17.083  South Africa   \n",
       "4   Abrahamsdam       ABH  -28.508   20.610  South Africa   \n",
       "\n",
       "  Province or district                  Biome  Dating technique  \\\n",
       "0        Northern Cape  Succulent Karoo Biome  conventional 14C   \n",
       "1        Northern Cape  Succulent Karoo Biome  conventional 14C   \n",
       "2        Northern Cape  Succulent Karoo Biome  conventional 14C   \n",
       "3        Northern Cape  Succulent Karoo Biome  conventional 14C   \n",
       "4        Northern Cape          Savanna Biome  conventional 14C   \n",
       "\n",
       "  Material dated Uncertainty Archaeological Period     Site Type  \n",
       "0       charcoal          60                   LSA     open site  \n",
       "1       charcoal          45                   LSA     open site  \n",
       "2       charcoal          50                   LSA     open site  \n",
       "3   charred bone          80                   LSA     open site  \n",
       "4           bone          50                   NaN  Human burial  "
      ]
     },
     "execution_count": 35,
     "metadata": {},
     "output_type": "execute_result"
    }
   ],
   "source": [
    "df_SARD.head()"
   ]
  },
  {
   "cell_type": "code",
   "execution_count": 41,
   "id": "e7e884b7",
   "metadata": {},
   "outputs": [],
   "source": [
    "df_SARD.dropna(inplace=True)"
   ]
  },
  {
   "cell_type": "code",
   "execution_count": 42,
   "id": "d24e530b",
   "metadata": {},
   "outputs": [
    {
     "data": {
      "text/plain": [
       " Site                    0\n",
       "Site code                0\n",
       "DecdegS                  0\n",
       "DecdegE                  0\n",
       "Country                  0\n",
       "Province or district     0\n",
       "Biome                    0\n",
       "Dating technique         0\n",
       "Material dated           0\n",
       "Uncertainty              0\n",
       "Archaeological Period    0\n",
       "Site Type                0\n",
       "dtype: int64"
      ]
     },
     "execution_count": 42,
     "metadata": {},
     "output_type": "execute_result"
    }
   ],
   "source": [
    "df_SARD.isna().sum()"
   ]
  },
  {
   "cell_type": "code",
   "execution_count": 43,
   "id": "4e79eae5",
   "metadata": {},
   "outputs": [
    {
     "data": {
      "text/plain": [
       "(1834, 12)"
      ]
     },
     "execution_count": 43,
     "metadata": {},
     "output_type": "execute_result"
    }
   ],
   "source": [
    "df_SARD.shape"
   ]
  },
  {
   "cell_type": "code",
   "execution_count": 71,
   "id": "6e1e1789",
   "metadata": {},
   "outputs": [],
   "source": [
    "df_SARD.to_csv('Cleaned_SARD_data.csv') #start from here next time"
   ]
  },
  {
   "cell_type": "markdown",
   "id": "a48d87a9",
   "metadata": {},
   "source": [
    "# Case Study 3: The Grave Data - Association Rule Mining"
   ]
  },
  {
   "cell_type": "markdown",
   "id": "61a3ffb2",
   "metadata": {},
   "source": [
    "Time buckets - > Location ->  and types of burial goods found\n",
    "Think 2016-18 -> target -> items purchasef <br>\n",
    "Will use Apriori algorithm "
   ]
  },
  {
   "cell_type": "code",
   "execution_count": null,
   "id": "c2cf5034",
   "metadata": {},
   "outputs": [],
   "source": []
  }
 ],
 "metadata": {
  "kernelspec": {
   "display_name": "Python 3",
   "language": "python",
   "name": "python3"
  },
  "language_info": {
   "codemirror_mode": {
    "name": "ipython",
    "version": 3
   },
   "file_extension": ".py",
   "mimetype": "text/x-python",
   "name": "python",
   "nbconvert_exporter": "python",
   "pygments_lexer": "ipython3",
   "version": "3.9.17"
  }
 },
 "nbformat": 4,
 "nbformat_minor": 5
}
